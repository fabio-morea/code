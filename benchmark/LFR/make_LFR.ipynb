{
 "cells": [
  {
   "attachments": {},
   "cell_type": "markdown",
   "metadata": {},
   "source": [
    "# create a family of benchmark graphs\n",
    "https://networkx.org/documentation/stable/reference/generated/networkx.generators.community.LFR_benchmark_graph.html\n",
    "“Benchmark graphs for testing community detection algorithms”, Andrea Lancichinetti, Santo Fortunato, and Filippo Radicchi, Phys. Rev. E 78, 046110 2008"
   ]
  },
  {
   "cell_type": "code",
   "execution_count": 1,
   "metadata": {},
   "outputs": [],
   "source": [
    "import networkx as nx\n",
    "import numpy as np\n",
    "import pandas as pd\n",
    "import igraph as ig\n",
    "from networkx.generators.community import LFR_benchmark_graph\n",
    " "
   ]
  },
  {
   "cell_type": "code",
   "execution_count": 2,
   "metadata": {},
   "outputs": [],
   "source": [
    "def add_true_labels(G):\n",
    "\n",
    "    cm = [(G.nodes[v][\"community\"]) for v in G]\n",
    "    unique_cm = []\n",
    "\n",
    "    # iterate through the list of sets\n",
    "    for set_ in cm:\n",
    "        # check if the set is already in the list of unique sets\n",
    "        if set_ not in unique_cm:\n",
    "            # if not, add it to the list of unique sets\n",
    "            unique_cm.append(set_)\n",
    "\n",
    "    df = pd.DataFrame(columns=['community']) \n",
    "    for comm_id, members in enumerate(unique_cm):\n",
    "        for node in list(members):\n",
    "            df.at[node, 'community'] = comm_id + 1 \n",
    "            \n",
    "    nx.set_node_attributes(G, df.community, \"community\")\n",
    "    return(G)"
   ]
  },
  {
   "cell_type": "code",
   "execution_count": 3,
   "metadata": {},
   "outputs": [],
   "source": [
    "\n",
    "# Generate a LFR_benchmark_graph\n",
    "seed=123\n",
    "n = 1000\n",
    "tau1 = 2\n",
    "tau2 = 3\n",
    "mu = 0.5\n",
    "average_degree=5\n",
    "max_degree = 50\n",
    "min_community=  20\n",
    "max_community = 50\n",
    "max_iters = 10000"
   ]
  },
  {
   "cell_type": "code",
   "execution_count": 4,
   "metadata": {},
   "outputs": [],
   "source": [
    "mui = 5\n",
    "G = LFR_benchmark_graph( n=n, \n",
    "                        tau1=tau1, \n",
    "                        tau2=tau2, \n",
    "                        mu=mui/100, \n",
    "                        average_degree=average_degree, \n",
    "                        min_community=min_community, \n",
    "                        max_community=max_community,\n",
    "                        max_degree = max_degree,\n",
    "                        max_iters = max_iters,\n",
    "                        seed=seed,\n",
    "                        tol = 2)"
   ]
  },
  {
   "cell_type": "code",
   "execution_count": 5,
   "metadata": {},
   "outputs": [
    {
     "name": "stdout",
     "output_type": "stream",
     "text": [
      "generating benchmark for mu =  0.05\n",
      "Graph with 1000 nodes and 2040 edges\n",
      "generating benchmark for mu =  0.1\n",
      "Graph with 1000 nodes and 2050 edges\n",
      "generating benchmark for mu =  0.15\n",
      "Graph with 1000 nodes and 2019 edges\n",
      "generating benchmark for mu =  0.2\n",
      "Graph with 1000 nodes and 2018 edges\n",
      "generating benchmark for mu =  0.25\n",
      "Graph with 1000 nodes and 2025 edges\n",
      "generating benchmark for mu =  0.3\n",
      "Graph with 1000 nodes and 2012 edges\n",
      "generating benchmark for mu =  0.35\n",
      "Graph with 1000 nodes and 2013 edges\n",
      "generating benchmark for mu =  0.4\n",
      "Graph with 1000 nodes and 2011 edges\n",
      "generating benchmark for mu =  0.45\n",
      "Graph with 1000 nodes and 2040 edges\n",
      "generating benchmark for mu =  0.5\n",
      "Graph with 1000 nodes and 2057 edges\n",
      "generating benchmark for mu =  0.55\n",
      "Graph with 1000 nodes and 2042 edges\n"
     ]
    }
   ],
   "source": [
    "mui_range = range(5,60,5) \n",
    " \n",
    "for mui in mui_range:\n",
    "    #generate benchmark\n",
    "    print(\"generating benchmark for mu = \", mui/100)\n",
    "    G = LFR_benchmark_graph( n=n, \n",
    "                            tau1=tau1, \n",
    "                            tau2=tau2, \n",
    "                            mu=mui/100, \n",
    "                            average_degree=average_degree, \n",
    "                            min_community=min_community, \n",
    "                            max_community=max_community,\n",
    "                            max_degree = max_degree,\n",
    "                            max_iters = max_iters,\n",
    "                            seed=seed,\n",
    "                            tol = 2)\n",
    "    \n",
    "    #extract true labels\n",
    "    gt = add_true_labels(G)\n",
    "    print(G)\n",
    "    nx.write_gml(G, f\"LFR_benchmark_{mui}.gml\")\n",
    "     \n",
    "\n"
   ]
  }
 ],
 "metadata": {
  "kernelspec": {
   "display_name": "Python 3",
   "language": "python",
   "name": "python3"
  },
  "language_info": {
   "codemirror_mode": {
    "name": "ipython",
    "version": 3
   },
   "file_extension": ".py",
   "mimetype": "text/x-python",
   "name": "python",
   "nbconvert_exporter": "python",
   "pygments_lexer": "ipython3",
   "version": "3.11.3"
  },
  "orig_nbformat": 4
 },
 "nbformat": 4,
 "nbformat_minor": 2
}
